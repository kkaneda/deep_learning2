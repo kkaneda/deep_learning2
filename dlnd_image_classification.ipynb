{
 "cells": [
  {
   "cell_type": "markdown",
   "metadata": {
    "collapsed": true,
    "deletable": true,
    "editable": true
   },
   "source": [
    "# Image Classification\n",
    "In this project, you'll classify images from the [CIFAR-10 dataset](https://www.cs.toronto.edu/~kriz/cifar.html).  The dataset consists of airplanes, dogs, cats, and other objects. You'll preprocess the images, then train a convolutional neural network on all the samples. The images need to be normalized and the labels need to be one-hot encoded.  You'll get to apply what you learned and build a convolutional, max pooling, dropout, and fully connected layers.  At the end, you'll get to see your neural network's predictions on the sample images.\n",
    "## Get the Data\n",
    "Run the following cell to download the [CIFAR-10 dataset for python](https://www.cs.toronto.edu/~kriz/cifar-10-python.tar.gz)."
   ]
  },
  {
   "cell_type": "code",
   "execution_count": 1,
   "metadata": {
    "collapsed": false,
    "deletable": true,
    "editable": true
   },
   "outputs": [
    {
     "name": "stderr",
     "output_type": "stream",
     "text": [
      "CIFAR-10 Dataset: 171MB [01:14, 2.30MB/s]                              \n"
     ]
    },
    {
     "name": "stdout",
     "output_type": "stream",
     "text": [
      "All files found!\n"
     ]
    }
   ],
   "source": [
    "\"\"\"\n",
    "DON'T MODIFY ANYTHING IN THIS CELL THAT IS BELOW THIS LINE\n",
    "\"\"\"\n",
    "from urllib.request import urlretrieve\n",
    "from os.path import isfile, isdir\n",
    "from tqdm import tqdm\n",
    "import problem_unittests as tests\n",
    "import tarfile\n",
    "\n",
    "cifar10_dataset_folder_path = 'cifar-10-batches-py'\n",
    "\n",
    "# Use Floyd's cifar-10 dataset if present\n",
    "floyd_cifar10_location = '/input/cifar-10/python.tar.gz'\n",
    "if isfile(floyd_cifar10_location):\n",
    "    tar_gz_path = floyd_cifar10_location\n",
    "else:\n",
    "    tar_gz_path = 'cifar-10-python.tar.gz'\n",
    "\n",
    "class DLProgress(tqdm):\n",
    "    last_block = 0\n",
    "\n",
    "    def hook(self, block_num=1, block_size=1, total_size=None):\n",
    "        self.total = total_size\n",
    "        self.update((block_num - self.last_block) * block_size)\n",
    "        self.last_block = block_num\n",
    "\n",
    "if not isfile(tar_gz_path):\n",
    "    with DLProgress(unit='B', unit_scale=True, miniters=1, desc='CIFAR-10 Dataset') as pbar:\n",
    "        urlretrieve(\n",
    "            'https://www.cs.toronto.edu/~kriz/cifar-10-python.tar.gz',\n",
    "            tar_gz_path,\n",
    "            pbar.hook)\n",
    "\n",
    "if not isdir(cifar10_dataset_folder_path):\n",
    "    with tarfile.open(tar_gz_path) as tar:\n",
    "        tar.extractall()\n",
    "        tar.close()\n",
    "\n",
    "\n",
    "tests.test_folder_path(cifar10_dataset_folder_path)"
   ]
  },
  {
   "cell_type": "markdown",
   "metadata": {
    "deletable": true,
    "editable": true
   },
   "source": [
    "## Explore the Data\n",
    "The dataset is broken into batches to prevent your machine from running out of memory.  The CIFAR-10 dataset consists of 5 batches, named `data_batch_1`, `data_batch_2`, etc.. Each batch contains the labels and images that are one of the following:\n",
    "* airplane\n",
    "* automobile\n",
    "* bird\n",
    "* cat\n",
    "* deer\n",
    "* dog\n",
    "* frog\n",
    "* horse\n",
    "* ship\n",
    "* truck\n",
    "\n",
    "Understanding a dataset is part of making predictions on the data.  Play around with the code cell below by changing the `batch_id` and `sample_id`. The `batch_id` is the id for a batch (1-5). The `sample_id` is the id for a image and label pair in the batch.\n",
    "\n",
    "Ask yourself \"What are all possible labels?\", \"What is the range of values for the image data?\", \"Are the labels in order or random?\".  Answers to questions like these will help you preprocess the data and end up with better predictions."
   ]
  },
  {
   "cell_type": "code",
   "execution_count": 2,
   "metadata": {
    "collapsed": false,
    "deletable": true,
    "editable": true
   },
   "outputs": [
    {
     "name": "stdout",
     "output_type": "stream",
     "text": [
      "\n",
      "Stats of batch 1:\n",
      "Samples: 10000\n",
      "Label Counts: {0: 1005, 1: 974, 2: 1032, 3: 1016, 4: 999, 5: 937, 6: 1030, 7: 1001, 8: 1025, 9: 981}\n",
      "First 20 Labels: [6, 9, 9, 4, 1, 1, 2, 7, 8, 3, 4, 7, 7, 2, 9, 9, 9, 3, 2, 6]\n",
      "\n",
      "Example of Image 5:\n",
      "Image - Min Value: 0 Max Value: 252\n",
      "Image - Shape: (32, 32, 3)\n",
      "Label - Label Id: 1 Name: automobile\n"
     ]
    },
    {
     "data": {
      "image/png": "[encoded data removed]",
      "text/plain": [
       "<matplotlib.figure.Figure at 0x7f6a281c2a90>"
      ]
     },
     "metadata": {
      "image/png": {
       "height": 250,
       "width": 253
      }
     },
     "output_type": "display_data"
    }
   ],
   "source": [
    "%matplotlib inline\n",
    "%config InlineBackend.figure_format = 'retina'\n",
    "\n",
    "import helper\n",
    "import numpy as np\n",
    "\n",
    "# Explore the dataset\n",
    "batch_id = 1\n",
    "sample_id = 5\n",
    "helper.display_stats(cifar10_dataset_folder_path, batch_id, sample_id)"
   ]
  },
  {
   "cell_type": "markdown",
   "metadata": {
    "deletable": true,
    "editable": true
   },
   "source": [
    "## Implement Preprocess Functions\n",
    "### Normalize\n",
    "In the cell below, implement the `normalize` function to take in image data, `x`, and return it as a normalized Numpy array. The values should be in the range of 0 to 1, inclusive.  The return object should be the same shape as `x`."
   ]
  },
  {
   "cell_type": "code",
   "execution_count": 4,
   "metadata": {
    "collapsed": false,
    "deletable": true,
    "editable": true
   },
   "outputs": [
    {
     "name": "stdout",
     "output_type": "stream",
     "text": [
      "Tests Passed\n"
     ]
    }
   ],
   "source": [
    "def normalize(x):\n",
    "    \"\"\"\n",
    "    Normalize a list of sample image data in the range of 0 to 1\n",
    "    : x: List of image data.  The image shape is (32, 32, 3)\n",
    "    : return: Numpy array of normalize data\n",
    "    \"\"\"\n",
    "    # TODO: Implement Function\n",
    "    # Copy the array.\n",
    "    # FInd the min and the max value in x\n",
    "    result = np.copy(x)\n",
    "    scale = np.max(x) - np.min(x)    \n",
    "    return result / scale + np.min(x)\n",
    "\n",
    "\n",
    "\"\"\"\n",
    "DON'T MODIFY ANYTHING IN THIS CELL THAT IS BELOW THIS LINE\n",
    "\"\"\"\n",
    "tests.test_normalize(normalize)"
   ]
  },
  {
   "cell_type": "markdown",
   "metadata": {
    "deletable": true,
    "editable": true
   },
   "source": [
    "### One-hot encode\n",
    "Just like the previous code cell, you'll be implementing a function for preprocessing.  This time, you'll implement the `one_hot_encode` function. The input, `x`, are a list of labels.  Implement the function to return the list of labels as One-Hot encoded Numpy array.  The possible values for labels are 0 to 9. The one-hot encoding function should return the same encoding for each value between each call to `one_hot_encode`.  Make sure to save the map of encodings outside the function.\n",
    "\n",
    "Hint: Don't reinvent the wheel."
   ]
  },
  {
   "cell_type": "code",
   "execution_count": 5,
   "metadata": {
    "collapsed": false,
    "deletable": true,
    "editable": true
   },
   "outputs": [
    {
     "name": "stdout",
     "output_type": "stream",
     "text": [
      "Tests Passed\n"
     ]
    }
   ],
   "source": [
    "# Create a map from label values to their one-hot encodes\n",
    "oneHotEncodeMap = {}\n",
    "for i in range(10):\n",
    "    l = []\n",
    "    for j in range(10):\n",
    "        if i == j:\n",
    "            l.append(1)\n",
    "        else:\n",
    "            l.append(0)\n",
    "    oneHotEncodeMap[i] = l\n",
    "\n",
    "def one_hot_encode(x):\n",
    "    \"\"\"\n",
    "    One hot encode a list of sample labels. Return a one-hot encoded vector for each label.\n",
    "    : x: List of sample Labels\n",
    "    : return: Numpy array of one-hot encoded labels\n",
    "    \"\"\"\n",
    "    l = []\n",
    "    for label in x:\n",
    "        l.append(oneHotEncodeMap[label])\n",
    "    return np.array(l)\n",
    "\n",
    "\n",
    "\"\"\"\n",
    "DON'T MODIFY ANYTHING IN THIS CELL THAT IS BELOW THIS LINE\n",
    "\"\"\"\n",
    "tests.test_one_hot_encode(one_hot_encode)"
   ]
  },
  {
   "cell_type": "markdown",
   "metadata": {
    "deletable": true,
    "editable": true
   },
   "source": [
    "### Randomize Data\n",
    "As you saw from exploring the data above, the order of the samples are randomized.  It doesn't hurt to randomize it again, but you don't need to for this dataset."
   ]
  },
  {
   "cell_type": "markdown",
   "metadata": {
    "deletable": true,
    "editable": true
   },
   "source": [
    "## Preprocess all the data and save it\n",
    "Running the code cell below will preprocess all the CIFAR-10 data and save it to file. The code below also uses 10% of the training data for validation."
   ]
  },
  {
   "cell_type": "code",
   "execution_count": 6,
   "metadata": {
    "collapsed": false,
    "deletable": true,
    "editable": true
   },
   "outputs": [],
   "source": [
    "\"\"\"\n",
    "DON'T MODIFY ANYTHING IN THIS CELL\n",
    "\"\"\"\n",
    "# Preprocess Training, Validation, and Testing Data\n",
    "helper.preprocess_and_save_data(cifar10_dataset_folder_path, normalize, one_hot_encode)"
   ]
  },
  {
   "cell_type": "markdown",
   "metadata": {
    "deletable": true,
    "editable": true
   },
   "source": [
    "# Check Point\n",
    "This is your first checkpoint.  If you ever decide to come back to this notebook or have to restart the notebook, you can start from here.  The preprocessed data has been saved to disk."
   ]
  },
  {
   "cell_type": "code",
   "execution_count": null,
   "metadata": {
    "collapsed": true,
    "deletable": true,
    "editable": true
   },
   "outputs": [],
   "source": [
    "\"\"\"\n",
    "DON'T MODIFY ANYTHING IN THIS CELL\n",
    "\"\"\"\n",
    "import pickle\n",
    "import problem_unittests as tests\n",
    "import helper\n",
    "\n",
    "# Load the Preprocessed Validation data\n",
    "valid_features, valid_labels = pickle.load(open('preprocess_validation.p', mode='rb'))"
   ]
  },
  {
   "cell_type": "markdown",
   "metadata": {
    "deletable": true,
    "editable": true
   },
   "source": [
    "## Build the network\n",
    "For the neural network, you'll build each layer into a function.  Most of the code you've seen has been outside of functions. To test your code more thoroughly, we require that you put each layer in a function.  This allows us to give you better feedback and test for simple mistakes using our unittests before you submit your project.\n",
    "\n",
    ">**Note:** If you're finding it hard to dedicate enough time for this course each week, we've provided a small shortcut to this part of the project. In the next couple of problems, you'll have the option to use classes from the [TensorFlow Layers](https://www.tensorflow.org/api_docs/python/tf/layers) or [TensorFlow Layers (contrib)](https://www.tensorflow.org/api_guides/python/contrib.layers) packages to build each layer, except the layers you build in the \"Convolutional and Max Pooling Layer\" section.  TF Layers is similar to Keras's and TFLearn's abstraction to layers, so it's easy to pickup.\n",
    "\n",
    ">However, if you would like to get the most out of this course, try to solve all the problems _without_ using anything from the TF Layers packages. You **can** still use classes from other packages that happen to have the same name as ones you find in TF Layers! For example, instead of using the TF Layers version of the `conv2d` class, [tf.layers.conv2d](https://www.tensorflow.org/api_docs/python/tf/layers/conv2d), you would want to use the TF Neural Network version of `conv2d`, [tf.nn.conv2d](https://www.tensorflow.org/api_docs/python/tf/nn/conv2d). \n",
    "\n",
    "Let's begin!\n",
    "\n",
    "### Input\n",
    "The neural network needs to read the image data, one-hot encoded labels, and dropout keep probability. Implement the following functions\n",
    "* Implement `neural_net_image_input`\n",
    " * Return a [TF Placeholder](https://www.tensorflow.org/api_docs/python/tf/placeholder)\n",
    " * Set the shape using `image_shape` with batch size set to `None`.\n",
    " * Name the TensorFlow placeholder \"x\" using the TensorFlow `name` parameter in the [TF Placeholder](https://www.tensorflow.org/api_docs/python/tf/placeholder).\n",
    "* Implement `neural_net_label_input`\n",
    " * Return a [TF Placeholder](https://www.tensorflow.org/api_docs/python/tf/placeholder)\n",
    " * Set the shape using `n_classes` with batch size set to `None`.\n",
    " * Name the TensorFlow placeholder \"y\" using the TensorFlow `name` parameter in the [TF Placeholder](https://www.tensorflow.org/api_docs/python/tf/placeholder).\n",
    "* Implement `neural_net_keep_prob_input`\n",
    " * Return a [TF Placeholder](https://www.tensorflow.org/api_docs/python/tf/placeholder) for dropout keep probability.\n",
    " * Name the TensorFlow placeholder \"keep_prob\" using the TensorFlow `name` parameter in the [TF Placeholder](https://www.tensorflow.org/api_docs/python/tf/placeholder).\n",
    "\n",
    "These names will be used at the end of the project to load your saved model.\n",
    "\n",
    "Note: `None` for shapes in TensorFlow allow for a dynamic size."
   ]
  },
  {
   "cell_type": "code",
   "execution_count": 39,
   "metadata": {
    "collapsed": false,
    "deletable": true,
    "editable": true
   },
   "outputs": [
    {
     "name": "stdout",
     "output_type": "stream",
     "text": [
      "Image Input Tests Passed.\n",
      "Label Input Tests Passed.\n",
      "Keep Prob Tests Passed.\n"
     ]
    }
   ],
   "source": [
    "import tensorflow as tf\n",
    "\n",
    "def neural_net_image_input(image_shape):\n",
    "    \"\"\"\n",
    "    Return a Tensor for a batch of image input\n",
    "    : image_shape: Shape of the images\n",
    "    : return: Tensor for image input.\n",
    "    \"\"\"\n",
    "    return tf.placeholder(tf.float32, shape=[None, image_shape[0], image_shape[1], 3], name='x')\n",
    "\n",
    "\n",
    "def neural_net_label_input(n_classes):\n",
    "    \"\"\"\n",
    "    Return a Tensor for a batch of label input\n",
    "    : n_classes: Number of classes\n",
    "    : return: Tensor for label input.\n",
    "    \"\"\"\n",
    "    return tf.placeholder(tf.float32, shape=[None, n_classes], name='y')\n",
    "\n",
    "\n",
    "def neural_net_keep_prob_input():\n",
    "    \"\"\"\n",
    "    Return a Tensor for keep probability\n",
    "    : return: Tensor for keep probability.\n",
    "    \"\"\"\n",
    "    return tf.placeholder(tf.float32, name='keep_prob')\n",
    "\n",
    "\n",
    "\"\"\"\n",
    "DON'T MODIFY ANYTHING IN THIS CELL THAT IS BELOW THIS LINE\n",
    "\"\"\"\n",
    "tf.reset_default_graph()\n",
    "tests.test_nn_image_inputs(neural_net_image_input)\n",
    "tests.test_nn_label_inputs(neural_net_label_input)\n",
    "tests.test_nn_keep_prob_inputs(neural_net_keep_prob_input)"
   ]
  },
  {
   "cell_type": "markdown",
   "metadata": {
    "deletable": true,
    "editable": true
   },
   "source": [
    "### Convolution and Max Pooling Layer\n",
    "Convolution layers have a lot of success with images. For this code cell, you should implement the function `conv2d_maxpool` to apply convolution then max pooling:\n",
    "* Create the weight and bias using `conv_ksize`, `conv_num_outputs` and the shape of `x_tensor`.\n",
    "* Apply a convolution to `x_tensor` using weight and `conv_strides`.\n",
    " * We recommend you use same padding, but you're welcome to use any padding.\n",
    "* Add bias\n",
    "* Add a nonlinear activation to the convolution.\n",
    "* Apply Max Pooling using `pool_ksize` and `pool_strides`.\n",
    " * We recommend you use same padding, but you're welcome to use any padding.\n",
    "\n",
    "**Note:** You **can't** use [TensorFlow Layers](https://www.tensorflow.org/api_docs/python/tf/layers) or [TensorFlow Layers (contrib)](https://www.tensorflow.org/api_guides/python/contrib.layers) for **this** layer, but you can still use TensorFlow's [Neural Network](https://www.tensorflow.org/api_docs/python/tf/nn) package. You may still use the shortcut option for all the **other** layers."
   ]
  },
  {
   "cell_type": "code",
   "execution_count": 40,
   "metadata": {
    "collapsed": false,
    "deletable": true,
    "editable": true
   },
   "outputs": [
    {
     "name": "stdout",
     "output_type": "stream",
     "text": [
      "Tests Passed\n"
     ]
    }
   ],
   "source": [
    "def conv2d_maxpool(x_tensor, conv_num_outputs, conv_ksize, conv_strides, pool_ksize, pool_strides):\n",
    "    \"\"\"\n",
    "    Apply convolution then max pooling to x_tensor\n",
    "    :param x_tensor: TensorFlow Tensor\n",
    "    :param conv_num_outputs: Number of outputs for the convolutional layer\n",
    "    :param conv_ksize: kernal size 2-D Tuple for the convolutional layer\n",
    "    :param conv_strides: Stride 2-D Tuple for convolution\n",
    "    :param pool_ksize: kernal size 2-D Tuple for pool\n",
    "    :param pool_strides: Stride 2-D Tuple for pool\n",
    "    : return: A tensor that represents convolution and max pooling of x_tensor\n",
    "    \"\"\"\n",
    "    if False: \n",
    "        # Unused. Just for debugging.\n",
    "        x = tf.layers.conv2d(\n",
    "            x_tensor,\n",
    "            conv_num_outputs,\n",
    "            conv_ksize,\n",
    "            strides=conv_strides,\n",
    "            padding='same',\n",
    "            activation=tf.nn.relu)\n",
    "        return tf.layers.max_pooling2d(\n",
    "            x,\n",
    "            pool_ksize,\n",
    "            pool_strides,\n",
    "            padding='same')\n",
    "\n",
    "    x_shape = x_tensor.get_shape().as_list()\n",
    "    in_channels = x_shape[3]\n",
    "    l = [conv_ksize[0], conv_ksize[1], in_channels, conv_num_outputs]\n",
    "#    weight = tf.Variable(tf.random_normal(l))    \n",
    "    weight = tf.Variable(tf.truncated_normal(l, 0.0, 0.001))\n",
    "#    bias = tf.Variable(tf.zeros([conv_num_outputs]))\n",
    "    bias = tf.Variable(tf.truncated_normal([conv_num_outputs], 0.0, 0.001))\n",
    "\n",
    "    x = tf.nn.conv2d(\n",
    "        input=x_tensor, \n",
    "        filter=weight, \n",
    "        strides=[1, conv_strides[0], conv_strides[1], 1], \n",
    "        padding='SAME')\n",
    "    x = tf.nn.bias_add(x, bias)     \n",
    "    x = tf.nn.relu(x)\n",
    "\n",
    "    x = tf.nn.max_pool(\n",
    "        x,\n",
    "        ksize=[1, pool_ksize[0], pool_ksize[1], 1], \n",
    "        strides=[1, pool_strides[0], pool_strides[1], 1],\n",
    "        padding='SAME')\n",
    "    return x\n",
    "\n",
    "\n",
    "\"\"\"\n",
    "DON'T MODIFY ANYTHING IN THIS CELL THAT IS BELOW THIS LINE\n",
    "\"\"\"\n",
    "tests.test_con_pool(conv2d_maxpool)"
   ]
  },
  {
   "cell_type": "markdown",
   "metadata": {
    "deletable": true,
    "editable": true
   },
   "source": [
    "### Flatten Layer\n",
    "Implement the `flatten` function to change the dimension of `x_tensor` from a 4-D tensor to a 2-D tensor.  The output should be the shape (*Batch Size*, *Flattened Image Size*). Shortcut option: you can use classes from the [TensorFlow Layers](https://www.tensorflow.org/api_docs/python/tf/layers) or [TensorFlow Layers (contrib)](https://www.tensorflow.org/api_guides/python/contrib.layers) packages for this layer. For more of a challenge, only use other TensorFlow packages."
   ]
  },
  {
   "cell_type": "code",
   "execution_count": 41,
   "metadata": {
    "collapsed": false,
    "deletable": true,
    "editable": true
   },
   "outputs": [
    {
     "name": "stdout",
     "output_type": "stream",
     "text": [
      "Tests Passed\n"
     ]
    }
   ],
   "source": [
    "def flatten(x_tensor):\n",
    "    \"\"\"\n",
    "    Flatten x_tensor to (Batch Size, Flattened Image Size)\n",
    "    : x_tensor: A tensor of size (Batch Size, ...), where ... are the image dimensions.\n",
    "    : return: A tensor of size (Batch Size, Flattened Image Size).\n",
    "    \"\"\"\n",
    "    # return tf.contrib.layers.flatten(x_tensor)    \n",
    "\n",
    "    s = x_tensor.get_shape().as_list()\n",
    "    return tf.reshape(x_tensor, [-1, s[1] * s[2] * s[3]])\n",
    "\n",
    "\"\"\"\n",
    "DON'T MODIFY ANYTHING IN THIS CELL THAT IS BELOW THIS LINE\n",
    "\"\"\"\n",
    "tests.test_flatten(flatten)"
   ]
  },
  {
   "cell_type": "markdown",
   "metadata": {
    "deletable": true,
    "editable": true
   },
   "source": [
    "### Fully-Connected Layer\n",
    "Implement the `fully_conn` function to apply a fully connected layer to `x_tensor` with the shape (*Batch Size*, *num_outputs*). Shortcut option: you can use classes from the [TensorFlow Layers](https://www.tensorflow.org/api_docs/python/tf/layers) or [TensorFlow Layers (contrib)](https://www.tensorflow.org/api_guides/python/contrib.layers) packages for this layer. For more of a challenge, only use other TensorFlow packages."
   ]
  },
  {
   "cell_type": "code",
   "execution_count": 42,
   "metadata": {
    "collapsed": false,
    "deletable": true,
    "editable": true
   },
   "outputs": [
    {
     "name": "stdout",
     "output_type": "stream",
     "text": [
      "Tests Passed\n"
     ]
    }
   ],
   "source": [
    "def fully_conn(x_tensor, num_outputs):\n",
    "    \"\"\"\n",
    "    Apply a fully connected layer to x_tensor using weight and bias\n",
    "    : x_tensor: A 2-D tensor where the first dimension is batch size.\n",
    "    : num_outputs: The number of output that the new tensor should be.\n",
    "    : return: A 2-D tensor where the second dimension is num_outputs.\n",
    "    \"\"\"\n",
    "    return tf.contrib.layers.fully_connected(x_tensor, num_outputs)\n",
    "    \n",
    "    s = x_tensor.get_shape().as_list()\n",
    "    l = [s[1], num_outputs]\n",
    "#    weight = tf.Variable(tf.truncated_normal(l))\n",
    "#    bias = tf.Variable(tf.random_normal([num_outputs]))    \n",
    "    weight = tf.Variable(tf.truncated_normal(l, 0.0, 0.001))    \n",
    "    bias = tf.Variable(tf.truncated_normal([num_outputs], 0.0, 0.001))\n",
    "    x_tensor = tf.add(tf.matmul(x_tensor, weight), bias)\n",
    "    return tf.nn.relu(x_tensor)    \n",
    "\n",
    "\n",
    "\"\"\"\n",
    "DON'T MODIFY ANYTHING IN THIS CELL THAT IS BELOW THIS LINE\n",
    "\"\"\"\n",
    "tests.test_fully_conn(fully_conn)"
   ]
  },
  {
   "cell_type": "markdown",
   "metadata": {
    "deletable": true,
    "editable": true
   },
   "source": [
    "### Output Layer\n",
    "Implement the `output` function to apply a fully connected layer to `x_tensor` with the shape (*Batch Size*, *num_outputs*). Shortcut option: you can use classes from the [TensorFlow Layers](https://www.tensorflow.org/api_docs/python/tf/layers) or [TensorFlow Layers (contrib)](https://www.tensorflow.org/api_guides/python/contrib.layers) packages for this layer. For more of a challenge, only use other TensorFlow packages.\n",
    "\n",
    "**Note:** Activation, softmax, or cross entropy should **not** be applied to this."
   ]
  },
  {
   "cell_type": "code",
   "execution_count": 43,
   "metadata": {
    "collapsed": false,
    "deletable": true,
    "editable": true
   },
   "outputs": [
    {
     "name": "stdout",
     "output_type": "stream",
     "text": [
      "Tests Passed\n"
     ]
    }
   ],
   "source": [
    "def output(x_tensor, num_outputs):\n",
    "    \"\"\"\n",
    "    Apply a output layer to x_tensor using weight and bias\n",
    "    : x_tensor: A 2-D tensor where the first dimension is batch size.\n",
    "    : num_outputs: The number of output that the new tensor should be.\n",
    "    : return: A 2-D tensor where the second dimension is num_outputs.\n",
    "    \"\"\"\n",
    "    # return tf.contrib.layers.linear(x_tensor, num_outputs)\n",
    "    \n",
    "    x_shape = x_tensor.get_shape().as_list()\n",
    "    l = [x_shape[1], num_outputs]\n",
    "#    weight = tf.Variable(tf.truncated_normal(l))\n",
    "#    bias = tf.Variable(tf.random_normal([num_outputs]))    \n",
    "    weight = tf.Variable(tf.truncated_normal(l, 0.0, 0.001))    \n",
    "    bias = tf.Variable(tf.truncated_normal([num_outputs], 0.0, 0.001))\n",
    "    return tf.add(tf.matmul(x_tensor, weight), bias)\n",
    "\n",
    "\n",
    "\"\"\"\n",
    "DON'T MODIFY ANYTHING IN THIS CELL THAT IS BELOW THIS LINE\n",
    "\"\"\"\n",
    "tests.test_output(output)"
   ]
  },
  {
   "cell_type": "markdown",
   "metadata": {
    "deletable": true,
    "editable": true
   },
   "source": [
    "### Create Convolutional Model\n",
    "Implement the function `conv_net` to create a convolutional neural network model. The function takes in a batch of images, `x`, and outputs logits.  Use the layers you created above to create this model:\n",
    "\n",
    "* Apply 1, 2, or 3 Convolution and Max Pool layers\n",
    "* Apply a Flatten Layer\n",
    "* Apply 1, 2, or 3 Fully Connected Layers\n",
    "* Apply an Output Layer\n",
    "* Return the output\n",
    "* Apply [TensorFlow's Dropout](https://www.tensorflow.org/api_docs/python/tf/nn/dropout) to one or more layers in the model using `keep_prob`. "
   ]
  },
  {
   "cell_type": "code",
   "execution_count": 59,
   "metadata": {
    "collapsed": false,
    "deletable": true,
    "editable": true
   },
   "outputs": [
    {
     "name": "stdout",
     "output_type": "stream",
     "text": [
      "Neural Network Built!\n"
     ]
    }
   ],
   "source": [
    "def conv_net(x, keep_prob):\n",
    "    \"\"\"\n",
    "    Create a convolutional neural network model\n",
    "    : x: Placeholder tensor that holds image data.\n",
    "    : keep_prob: Placeholder tensor that hold dropout keep probability.\n",
    "    : return: Tensor that represents logits\n",
    "    \"\"\"\n",
    "    # TODO: Apply 1, 2, or 3 Convolution and Max Pool layers\n",
    "    #    Play around with different number of outputs, kernel size and stride\n",
    "    # Function Definition from Above:\n",
    "    #    conv2d_maxpool(x_tensor, conv_num_outputs, conv_ksize, conv_strides, pool_ksize, pool_strides)    \n",
    "    conv_num_outputs = 32\n",
    "    conv_ksize = [5, 5]\n",
    "    conv_strides = [1, 1]\n",
    "    pool_ksize = [2, 2]\n",
    "    pool_strides = [2, 2]\n",
    "    x = conv2d_maxpool(x, conv_num_outputs, conv_ksize, conv_strides, pool_ksize, pool_strides)    \n",
    "        \n",
    "    conv_num_outputs = 64\n",
    "    x = conv2d_maxpool(x, conv_num_outputs, conv_ksize, conv_strides, pool_ksize, pool_strides)    \n",
    "    # x = tf.nn.dropout(x, keep_prob)   \n",
    "\n",
    "    conv_num_outputs = 512\n",
    "    x = conv2d_maxpool(x, conv_num_outputs, conv_ksize, conv_strides, pool_ksize, pool_strides)    \n",
    "    # x = tf.nn.dropout(x, keep_prob)   \n",
    "    \n",
    "    # TODO: Apply a Flatten Layer\n",
    "    # Function Definition from Above:\n",
    "    #   flatten(x_tensor)\n",
    "    x = flatten(x)\n",
    "\n",
    "    # TODO: Apply 1, 2, or 3 Fully Connected Layers\n",
    "    #    Play around with different number of outputs\n",
    "    # Function Definition from Above:\n",
    "    #   fully_conn(x_tensor, num_outputs)    \n",
    "    num_outputs = conv_num_outputs\n",
    "    # x = tf.nn.dropout(x, keep_prob)     \n",
    "    for i in range(2):    \n",
    "        x = fully_conn(x, num_outputs)\n",
    "        x = tf.nn.dropout(x, keep_prob)   \n",
    "    \n",
    "    # TODO: Apply an Output Layer\n",
    "    #    Set this to the number of classes\n",
    "    # Function Definition from Above:\n",
    "    #   output(x_tensor, num_outputs)    \n",
    "    num_outputs = 10\n",
    "    return output(x, num_outputs)\n",
    "     \n",
    "\n",
    "\"\"\"\n",
    "DON'T MODIFY ANYTHING IN THIS CELL THAT IS BELOW THIS LINE\n",
    "\"\"\"\n",
    "\n",
    "##############################\n",
    "## Build the Neural Network ##\n",
    "##############################\n",
    "\n",
    "# Remove previous weights, bias, inputs, etc..\n",
    "tf.reset_default_graph()\n",
    "\n",
    "# Inputs\n",
    "x = neural_net_image_input((32, 32, 3))\n",
    "y = neural_net_label_input(10)\n",
    "keep_prob = neural_net_keep_prob_input()\n",
    "\n",
    "# Model\n",
    "logits = conv_net(x, keep_prob)\n",
    "\n",
    "# Name logits Tensor, so that is can be loaded from disk after training\n",
    "logits = tf.identity(logits, name='logits')\n",
    "\n",
    "# Loss and Optimizer\n",
    "cost = tf.reduce_mean(tf.nn.softmax_cross_entropy_with_logits(logits=logits, labels=y))\n",
    "optimizer = tf.train.AdamOptimizer().minimize(cost)\n",
    "\n",
    "# Accuracy\n",
    "correct_pred = tf.equal(tf.argmax(logits, 1), tf.argmax(y, 1))\n",
    "accuracy = tf.reduce_mean(tf.cast(correct_pred, tf.float32), name='accuracy')\n",
    "\n",
    "tests.test_conv_net(conv_net)"
   ]
  },
  {
   "cell_type": "markdown",
   "metadata": {
    "deletable": true,
    "editable": true
   },
   "source": [
    "## Train the Neural Network\n",
    "### Single Optimization\n",
    "Implement the function `train_neural_network` to do a single optimization.  The optimization should use `optimizer` to optimize in `session` with a `feed_dict` of the following:\n",
    "* `x` for image input\n",
    "* `y` for labels\n",
    "* `keep_prob` for keep probability for dropout\n",
    "\n",
    "This function will be called for each batch, so `tf.global_variables_initializer()` has already been called.\n",
    "\n",
    "Note: Nothing needs to be returned. This function is only optimizing the neural network."
   ]
  },
  {
   "cell_type": "code",
   "execution_count": 60,
   "metadata": {
    "collapsed": false,
    "deletable": true,
    "editable": true
   },
   "outputs": [
    {
     "name": "stdout",
     "output_type": "stream",
     "text": [
      "Tests Passed\n"
     ]
    }
   ],
   "source": [
    "def train_neural_network(session, optimizer, keep_probability, feature_batch, label_batch):\n",
    "    \"\"\"\n",
    "    Optimize the session on a batch of images and labels\n",
    "    : session: Current TensorFlow session\n",
    "    : optimizer: TensorFlow optimizer function\n",
    "    : keep_probability: keep probability\n",
    "    : feature_batch: Batch of Numpy image data\n",
    "    : label_batch: Batch of Numpy label data\n",
    "    \"\"\"\n",
    "    session.run(optimizer, feed_dict={x: feature_batch, y: label_batch, keep_prob: keep_probability})\n",
    "\n",
    "\n",
    "\"\"\"\n",
    "DON'T MODIFY ANYTHING IN THIS CELL THAT IS BELOW THIS LINE\n",
    "\"\"\"\n",
    "tests.test_train_nn(train_neural_network)"
   ]
  },
  {
   "cell_type": "markdown",
   "metadata": {
    "deletable": true,
    "editable": true
   },
   "source": [
    "### Show Stats\n",
    "Implement the function `print_stats` to print loss and validation accuracy.  Use the global variables `valid_features` and `valid_labels` to calculate validation accuracy.  Use a keep probability of `1.0` to calculate the loss and validation accuracy."
   ]
  },
  {
   "cell_type": "code",
   "execution_count": 61,
   "metadata": {
    "collapsed": false,
    "deletable": true,
    "editable": true
   },
   "outputs": [],
   "source": [
    "def print_stats(session, feature_batch, label_batch, cost, accuracy):\n",
    "    \"\"\"\n",
    "    Print information about loss and validation accuracy\n",
    "    : session: Current TensorFlow session\n",
    "    : feature_batch: Batch of Numpy image data\n",
    "    : label_batch: Batch of Numpy label data\n",
    "    : cost: TensorFlow cost function\n",
    "    : accuracy: TensorFlow accuracy function\n",
    "    \"\"\"\n",
    "    loss = session.run(cost, feed_dict={x: feature_batch, y: label_batch, keep_prob: 1.})\n",
    "    valid_acc = sess.run(accuracy, feed_dict={x: valid_features, y: valid_labels, keep_prob: 1.})\n",
    "\n",
    "    print('Loss: {:>10.4f} Validation Accuracy: {:.6f}'.format(loss, valid_acc))"
   ]
  },
  {
   "cell_type": "markdown",
   "metadata": {
    "deletable": true,
    "editable": true
   },
   "source": [
    "### Hyperparameters\n",
    "Tune the following parameters:\n",
    "* Set `epochs` to the number of iterations until the network stops learning or start overfitting\n",
    "* Set `batch_size` to the highest number that your machine has memory for.  Most people set them to common sizes of memory:\n",
    " * 64\n",
    " * 128\n",
    " * 256\n",
    " * ...\n",
    "* Set `keep_probability` to the probability of keeping a node using dropout"
   ]
  },
  {
   "cell_type": "code",
   "execution_count": 63,
   "metadata": {
    "collapsed": true,
    "deletable": true,
    "editable": true
   },
   "outputs": [],
   "source": [
    "# TODO: Tune Parameters\n",
    "epochs = 40\n",
    "batch_size = 256\n",
    "keep_probability = 0.6"
   ]
  },
  {
   "cell_type": "markdown",
   "metadata": {
    "deletable": true,
    "editable": true
   },
   "source": [
    "### Train on a Single CIFAR-10 Batch\n",
    "Instead of training the neural network on all the CIFAR-10 batches of data, let's use a single batch. This should save time while you iterate on the model to get a better accuracy.  Once the final validation accuracy is 50% or greater, run the model on all the data in the next section."
   ]
  },
  {
   "cell_type": "code",
   "execution_count": 64,
   "metadata": {
    "collapsed": false,
    "deletable": true,
    "editable": true
   },
   "outputs": [
    {
     "name": "stdout",
     "output_type": "stream",
     "text": [
      "Checking the Training on a Single Batch...\n",
      "Epoch  1, CIFAR-10 Batch 1:  Loss:     2.2972 Validation Accuracy: 0.118200\n",
      "Epoch  2, CIFAR-10 Batch 1:  Loss:     2.2337 Validation Accuracy: 0.212800\n",
      "Epoch  3, CIFAR-10 Batch 1:  Loss:     2.1697 Validation Accuracy: 0.268200\n",
      "Epoch  4, CIFAR-10 Batch 1:  Loss:     2.0947 Validation Accuracy: 0.279000\n",
      "Epoch  5, CIFAR-10 Batch 1:  Loss:     2.0770 Validation Accuracy: 0.285800\n",
      "Epoch  6, CIFAR-10 Batch 1:  Loss:     2.0016 Validation Accuracy: 0.295000\n",
      "Epoch  7, CIFAR-10 Batch 1:  Loss:     1.9323 Validation Accuracy: 0.307200\n",
      "Epoch  8, CIFAR-10 Batch 1:  Loss:     1.8673 Validation Accuracy: 0.340600\n",
      "Epoch  9, CIFAR-10 Batch 1:  Loss:     1.7955 Validation Accuracy: 0.379000\n",
      "Epoch 10, CIFAR-10 Batch 1:  Loss:     1.7110 Validation Accuracy: 0.398600\n",
      "Epoch 11, CIFAR-10 Batch 1:  Loss:     1.6379 Validation Accuracy: 0.405400\n",
      "Epoch 12, CIFAR-10 Batch 1:  Loss:     1.5738 Validation Accuracy: 0.409000\n",
      "Epoch 13, CIFAR-10 Batch 1:  Loss:     1.5442 Validation Accuracy: 0.425600\n",
      "Epoch 14, CIFAR-10 Batch 1:  Loss:     1.4219 Validation Accuracy: 0.408800\n",
      "Epoch 15, CIFAR-10 Batch 1:  Loss:     1.3994 Validation Accuracy: 0.432200\n",
      "Epoch 16, CIFAR-10 Batch 1:  Loss:     1.3108 Validation Accuracy: 0.433000\n",
      "Epoch 17, CIFAR-10 Batch 1:  Loss:     1.2386 Validation Accuracy: 0.430200\n",
      "Epoch 18, CIFAR-10 Batch 1:  Loss:     1.3402 Validation Accuracy: 0.410000\n",
      "Epoch 19, CIFAR-10 Batch 1:  Loss:     1.1285 Validation Accuracy: 0.449400\n",
      "Epoch 20, CIFAR-10 Batch 1:  Loss:     1.0597 Validation Accuracy: 0.459600\n",
      "Epoch 21, CIFAR-10 Batch 1:  Loss:     1.0323 Validation Accuracy: 0.462800\n",
      "Epoch 22, CIFAR-10 Batch 1:  Loss:     0.9230 Validation Accuracy: 0.467200\n",
      "Epoch 23, CIFAR-10 Batch 1:  Loss:     0.8774 Validation Accuracy: 0.471000\n",
      "Epoch 24, CIFAR-10 Batch 1:  Loss:     0.8617 Validation Accuracy: 0.472400\n",
      "Epoch 25, CIFAR-10 Batch 1:  Loss:     0.7775 Validation Accuracy: 0.481200\n",
      "Epoch 26, CIFAR-10 Batch 1:  Loss:     0.7583 Validation Accuracy: 0.478600\n",
      "Epoch 27, CIFAR-10 Batch 1:  Loss:     0.6932 Validation Accuracy: 0.479200\n",
      "Epoch 28, CIFAR-10 Batch 1:  Loss:     0.7023 Validation Accuracy: 0.473600\n",
      "Epoch 29, CIFAR-10 Batch 1:  Loss:     0.7095 Validation Accuracy: 0.472400\n",
      "Epoch 30, CIFAR-10 Batch 1:  Loss:     0.6772 Validation Accuracy: 0.465400\n",
      "Epoch 31, CIFAR-10 Batch 1:  Loss:     0.6131 Validation Accuracy: 0.460800\n",
      "Epoch 32, CIFAR-10 Batch 1:  Loss:     0.5202 Validation Accuracy: 0.503000\n",
      "Epoch 33, CIFAR-10 Batch 1:  Loss:     0.4767 Validation Accuracy: 0.498800\n",
      "Epoch 34, CIFAR-10 Batch 1:  Loss:     0.4124 Validation Accuracy: 0.504600\n",
      "Epoch 35, CIFAR-10 Batch 1:  Loss:     0.3734 Validation Accuracy: 0.501400\n",
      "Epoch 36, CIFAR-10 Batch 1:  Loss:     0.3474 Validation Accuracy: 0.496800\n",
      "Epoch 37, CIFAR-10 Batch 1:  Loss:     0.3091 Validation Accuracy: 0.492800\n",
      "Epoch 38, CIFAR-10 Batch 1:  Loss:     0.2732 Validation Accuracy: 0.500200\n",
      "Epoch 39, CIFAR-10 Batch 1:  Loss:     0.2041 Validation Accuracy: 0.495800\n",
      "Epoch 40, CIFAR-10 Batch 1:  Loss:     0.2191 Validation Accuracy: 0.502400\n"
     ]
    }
   ],
   "source": [
    "\"\"\"\n",
    "DON'T MODIFY ANYTHING IN THIS CELL\n",
    "\"\"\"\n",
    "print('Checking the Training on a Single Batch...')\n",
    "with tf.Session() as sess:\n",
    "    # Initializing the variables\n",
    "    sess.run(tf.global_variables_initializer())\n",
    "    \n",
    "    # Training cycle\n",
    "    for epoch in range(epochs):\n",
    "        batch_i = 1\n",
    "        for batch_features, batch_labels in helper.load_preprocess_training_batch(batch_i, batch_size):\n",
    "            train_neural_network(sess, optimizer, keep_probability, batch_features, batch_labels)\n",
    "        print('Epoch {:>2}, CIFAR-10 Batch {}:  '.format(epoch + 1, batch_i), end='')\n",
    "        print_stats(sess, batch_features, batch_labels, cost, accuracy)"
   ]
  },
  {
   "cell_type": "markdown",
   "metadata": {
    "deletable": true,
    "editable": true
   },
   "source": [
    "### Fully Train the Model\n",
    "Now that you got a good accuracy with a single CIFAR-10 batch, try it with all five batches."
   ]
  },
  {
   "cell_type": "code",
   "execution_count": 65,
   "metadata": {
    "collapsed": false,
    "deletable": true,
    "editable": true
   },
   "outputs": [
    {
     "name": "stdout",
     "output_type": "stream",
     "text": [
      "Training...\n",
      "Epoch  1, CIFAR-10 Batch 1:  Loss:     2.2744 Validation Accuracy: 0.107000\n",
      "Epoch  1, CIFAR-10 Batch 2:  Loss:     2.1139 Validation Accuracy: 0.215200\n",
      "Epoch  1, CIFAR-10 Batch 3:  Loss:     1.8153 Validation Accuracy: 0.263800\n",
      "Epoch  1, CIFAR-10 Batch 4:  Loss:     1.8974 Validation Accuracy: 0.283800\n",
      "Epoch  1, CIFAR-10 Batch 5:  Loss:     2.0511 Validation Accuracy: 0.298400\n",
      "Epoch  2, CIFAR-10 Batch 1:  Loss:     2.0118 Validation Accuracy: 0.315200\n",
      "Epoch  2, CIFAR-10 Batch 2:  Loss:     1.7668 Validation Accuracy: 0.352400\n",
      "Epoch  2, CIFAR-10 Batch 3:  Loss:     1.4917 Validation Accuracy: 0.357600\n",
      "Epoch  2, CIFAR-10 Batch 4:  Loss:     1.6247 Validation Accuracy: 0.375800\n",
      "Epoch  2, CIFAR-10 Batch 5:  Loss:     1.8294 Validation Accuracy: 0.401200\n",
      "Epoch  3, CIFAR-10 Batch 1:  Loss:     1.7198 Validation Accuracy: 0.413800\n",
      "Epoch  3, CIFAR-10 Batch 2:  Loss:     1.6284 Validation Accuracy: 0.417200\n",
      "Epoch  3, CIFAR-10 Batch 3:  Loss:     1.2318 Validation Accuracy: 0.394800\n",
      "Epoch  3, CIFAR-10 Batch 4:  Loss:     1.5144 Validation Accuracy: 0.436000\n",
      "Epoch  3, CIFAR-10 Batch 5:  Loss:     1.6661 Validation Accuracy: 0.456600\n",
      "Epoch  4, CIFAR-10 Batch 1:  Loss:     1.6410 Validation Accuracy: 0.465800\n",
      "Epoch  4, CIFAR-10 Batch 2:  Loss:     1.4233 Validation Accuracy: 0.461800\n",
      "Epoch  4, CIFAR-10 Batch 3:  Loss:     1.1040 Validation Accuracy: 0.460200\n",
      "Epoch  4, CIFAR-10 Batch 4:  Loss:     1.2706 Validation Accuracy: 0.475400\n",
      "Epoch  4, CIFAR-10 Batch 5:  Loss:     1.4612 Validation Accuracy: 0.493600\n",
      "Epoch  5, CIFAR-10 Batch 1:  Loss:     1.4199 Validation Accuracy: 0.484600\n",
      "Epoch  5, CIFAR-10 Batch 2:  Loss:     1.2455 Validation Accuracy: 0.490800\n",
      "Epoch  5, CIFAR-10 Batch 3:  Loss:     1.0187 Validation Accuracy: 0.492600\n",
      "Epoch  5, CIFAR-10 Batch 4:  Loss:     1.1499 Validation Accuracy: 0.504600\n",
      "Epoch  5, CIFAR-10 Batch 5:  Loss:     1.2471 Validation Accuracy: 0.526400\n",
      "Epoch  6, CIFAR-10 Batch 1:  Loss:     1.2555 Validation Accuracy: 0.517600\n",
      "Epoch  6, CIFAR-10 Batch 2:  Loss:     1.0832 Validation Accuracy: 0.524200\n",
      "Epoch  6, CIFAR-10 Batch 3:  Loss:     0.8877 Validation Accuracy: 0.523600\n",
      "Epoch  6, CIFAR-10 Batch 4:  Loss:     1.0479 Validation Accuracy: 0.536800\n",
      "Epoch  6, CIFAR-10 Batch 5:  Loss:     1.0861 Validation Accuracy: 0.550000\n",
      "Epoch  7, CIFAR-10 Batch 1:  Loss:     1.0743 Validation Accuracy: 0.527200\n",
      "Epoch  7, CIFAR-10 Batch 2:  Loss:     0.9255 Validation Accuracy: 0.541000\n",
      "Epoch  7, CIFAR-10 Batch 3:  Loss:     0.7770 Validation Accuracy: 0.557400\n",
      "Epoch  7, CIFAR-10 Batch 4:  Loss:     0.9297 Validation Accuracy: 0.565000\n",
      "Epoch  7, CIFAR-10 Batch 5:  Loss:     0.9383 Validation Accuracy: 0.568200\n",
      "Epoch  8, CIFAR-10 Batch 1:  Loss:     0.9382 Validation Accuracy: 0.555400\n",
      "Epoch  8, CIFAR-10 Batch 2:  Loss:     0.8508 Validation Accuracy: 0.560400\n",
      "Epoch  8, CIFAR-10 Batch 3:  Loss:     0.6923 Validation Accuracy: 0.568600\n",
      "Epoch  8, CIFAR-10 Batch 4:  Loss:     0.8083 Validation Accuracy: 0.574200\n",
      "Epoch  8, CIFAR-10 Batch 5:  Loss:     0.7967 Validation Accuracy: 0.579200\n",
      "Epoch  9, CIFAR-10 Batch 1:  Loss:     0.8062 Validation Accuracy: 0.576800\n",
      "Epoch  9, CIFAR-10 Batch 2:  Loss:     0.6983 Validation Accuracy: 0.564800\n",
      "Epoch  9, CIFAR-10 Batch 3:  Loss:     0.5749 Validation Accuracy: 0.577800\n",
      "Epoch  9, CIFAR-10 Batch 4:  Loss:     0.6856 Validation Accuracy: 0.595200\n",
      "Epoch  9, CIFAR-10 Batch 5:  Loss:     0.6431 Validation Accuracy: 0.587200\n",
      "Epoch 10, CIFAR-10 Batch 1:  Loss:     0.6697 Validation Accuracy: 0.577000\n",
      "Epoch 10, CIFAR-10 Batch 2:  Loss:     0.6093 Validation Accuracy: 0.601200\n",
      "Epoch 10, CIFAR-10 Batch 3:  Loss:     0.5230 Validation Accuracy: 0.598800\n",
      "Epoch 10, CIFAR-10 Batch 4:  Loss:     0.5814 Validation Accuracy: 0.609000\n",
      "Epoch 10, CIFAR-10 Batch 5:  Loss:     0.5470 Validation Accuracy: 0.605400\n",
      "Epoch 11, CIFAR-10 Batch 1:  Loss:     0.5884 Validation Accuracy: 0.601000\n",
      "Epoch 11, CIFAR-10 Batch 2:  Loss:     0.5197 Validation Accuracy: 0.602800\n",
      "Epoch 11, CIFAR-10 Batch 3:  Loss:     0.4156 Validation Accuracy: 0.608200\n",
      "Epoch 11, CIFAR-10 Batch 4:  Loss:     0.4922 Validation Accuracy: 0.622000\n",
      "Epoch 11, CIFAR-10 Batch 5:  Loss:     0.4731 Validation Accuracy: 0.623200\n",
      "Epoch 12, CIFAR-10 Batch 1:  Loss:     0.5005 Validation Accuracy: 0.595200\n",
      "Epoch 12, CIFAR-10 Batch 2:  Loss:     0.4401 Validation Accuracy: 0.609600\n",
      "Epoch 12, CIFAR-10 Batch 3:  Loss:     0.3699 Validation Accuracy: 0.608400\n",
      "Epoch 12, CIFAR-10 Batch 4:  Loss:     0.4670 Validation Accuracy: 0.619000\n",
      "Epoch 12, CIFAR-10 Batch 5:  Loss:     0.3795 Validation Accuracy: 0.625200\n",
      "Epoch 13, CIFAR-10 Batch 1:  Loss:     0.4256 Validation Accuracy: 0.619400\n",
      "Epoch 13, CIFAR-10 Batch 2:  Loss:     0.3786 Validation Accuracy: 0.625000\n",
      "Epoch 13, CIFAR-10 Batch 3:  Loss:     0.3437 Validation Accuracy: 0.619200\n",
      "Epoch 13, CIFAR-10 Batch 4:  Loss:     0.3732 Validation Accuracy: 0.635600\n",
      "Epoch 13, CIFAR-10 Batch 5:  Loss:     0.3075 Validation Accuracy: 0.631000\n",
      "Epoch 14, CIFAR-10 Batch 1:  Loss:     0.3543 Validation Accuracy: 0.625800\n",
      "Epoch 14, CIFAR-10 Batch 2:  Loss:     0.3133 Validation Accuracy: 0.617000\n",
      "Epoch 14, CIFAR-10 Batch 3:  Loss:     0.2503 Validation Accuracy: 0.613000\n",
      "Epoch 14, CIFAR-10 Batch 4:  Loss:     0.3300 Validation Accuracy: 0.626200\n",
      "Epoch 14, CIFAR-10 Batch 5:  Loss:     0.2776 Validation Accuracy: 0.616000\n",
      "Epoch 15, CIFAR-10 Batch 1:  Loss:     0.3205 Validation Accuracy: 0.618000\n",
      "Epoch 15, CIFAR-10 Batch 2:  Loss:     0.2562 Validation Accuracy: 0.626800\n",
      "Epoch 15, CIFAR-10 Batch 3:  Loss:     0.2056 Validation Accuracy: 0.623800\n",
      "Epoch 15, CIFAR-10 Batch 4:  Loss:     0.2624 Validation Accuracy: 0.642600\n",
      "Epoch 15, CIFAR-10 Batch 5:  Loss:     0.1981 Validation Accuracy: 0.633800\n",
      "Epoch 16, CIFAR-10 Batch 1:  Loss:     0.3263 Validation Accuracy: 0.610000\n",
      "Epoch 16, CIFAR-10 Batch 2:  Loss:     0.2278 Validation Accuracy: 0.616800\n",
      "Epoch 16, CIFAR-10 Batch 3:  Loss:     0.2228 Validation Accuracy: 0.613000\n",
      "Epoch 16, CIFAR-10 Batch 4:  Loss:     0.2285 Validation Accuracy: 0.638200\n",
      "Epoch 16, CIFAR-10 Batch 5:  Loss:     0.1713 Validation Accuracy: 0.641600\n",
      "Epoch 17, CIFAR-10 Batch 1:  Loss:     0.2373 Validation Accuracy: 0.631600\n",
      "Epoch 17, CIFAR-10 Batch 2:  Loss:     0.1705 Validation Accuracy: 0.632200\n",
      "Epoch 17, CIFAR-10 Batch 3:  Loss:     0.1588 Validation Accuracy: 0.621200\n",
      "Epoch 17, CIFAR-10 Batch 4:  Loss:     0.1931 Validation Accuracy: 0.636000\n",
      "Epoch 17, CIFAR-10 Batch 5:  Loss:     0.1272 Validation Accuracy: 0.644000\n",
      "Epoch 18, CIFAR-10 Batch 1:  Loss:     0.2438 Validation Accuracy: 0.615200\n",
      "Epoch 18, CIFAR-10 Batch 2:  Loss:     0.1581 Validation Accuracy: 0.638600\n",
      "Epoch 18, CIFAR-10 Batch 3:  Loss:     0.1491 Validation Accuracy: 0.622600\n",
      "Epoch 18, CIFAR-10 Batch 4:  Loss:     0.1625 Validation Accuracy: 0.646000\n",
      "Epoch 18, CIFAR-10 Batch 5:  Loss:     0.0949 Validation Accuracy: 0.635800\n",
      "Epoch 19, CIFAR-10 Batch 1:  Loss:     0.1834 Validation Accuracy: 0.616400\n",
      "Epoch 19, CIFAR-10 Batch 2:  Loss:     0.1568 Validation Accuracy: 0.643600\n",
      "Epoch 19, CIFAR-10 Batch 3:  Loss:     0.1127 Validation Accuracy: 0.623800\n",
      "Epoch 19, CIFAR-10 Batch 4:  Loss:     0.1419 Validation Accuracy: 0.639600\n",
      "Epoch 19, CIFAR-10 Batch 5:  Loss:     0.0832 Validation Accuracy: 0.650600\n",
      "Epoch 20, CIFAR-10 Batch 1:  Loss:     0.1540 Validation Accuracy: 0.611800\n",
      "Epoch 20, CIFAR-10 Batch 2:  Loss:     0.1054 Validation Accuracy: 0.634800\n",
      "Epoch 20, CIFAR-10 Batch 3:  Loss:     0.0957 Validation Accuracy: 0.630600\n",
      "Epoch 20, CIFAR-10 Batch 4:  Loss:     0.1096 Validation Accuracy: 0.633600\n",
      "Epoch 20, CIFAR-10 Batch 5:  Loss:     0.0778 Validation Accuracy: 0.641000\n",
      "Epoch 21, CIFAR-10 Batch 1:  Loss:     0.1046 Validation Accuracy: 0.646000\n",
      "Epoch 21, CIFAR-10 Batch 2:  Loss:     0.0976 Validation Accuracy: 0.617800\n",
      "Epoch 21, CIFAR-10 Batch 3:  Loss:     0.0823 Validation Accuracy: 0.642400\n",
      "Epoch 21, CIFAR-10 Batch 4:  Loss:     0.0818 Validation Accuracy: 0.637200\n",
      "Epoch 21, CIFAR-10 Batch 5:  Loss:     0.0632 Validation Accuracy: 0.645600\n",
      "Epoch 22, CIFAR-10 Batch 1:  Loss:     0.0890 Validation Accuracy: 0.640800\n",
      "Epoch 22, CIFAR-10 Batch 2:  Loss:     0.0990 Validation Accuracy: 0.619200\n",
      "Epoch 22, CIFAR-10 Batch 3:  Loss:     0.0663 Validation Accuracy: 0.637200\n",
      "Epoch 22, CIFAR-10 Batch 4:  Loss:     0.0697 Validation Accuracy: 0.637600\n",
      "Epoch 22, CIFAR-10 Batch 5:  Loss:     0.0535 Validation Accuracy: 0.638400\n",
      "Epoch 23, CIFAR-10 Batch 1:  Loss:     0.1034 Validation Accuracy: 0.638000\n",
      "Epoch 23, CIFAR-10 Batch 2:  Loss:     0.1162 Validation Accuracy: 0.606800\n",
      "Epoch 23, CIFAR-10 Batch 3:  Loss:     0.0553 Validation Accuracy: 0.640400\n",
      "Epoch 23, CIFAR-10 Batch 4:  Loss:     0.0702 Validation Accuracy: 0.631400\n",
      "Epoch 23, CIFAR-10 Batch 5:  Loss:     0.0481 Validation Accuracy: 0.631800\n",
      "Epoch 24, CIFAR-10 Batch 1:  Loss:     0.1068 Validation Accuracy: 0.622800\n",
      "Epoch 24, CIFAR-10 Batch 2:  Loss:     0.1324 Validation Accuracy: 0.632000\n",
      "Epoch 24, CIFAR-10 Batch 3:  Loss:     0.0526 Validation Accuracy: 0.633800\n",
      "Epoch 24, CIFAR-10 Batch 4:  Loss:     0.0616 Validation Accuracy: 0.618200\n",
      "Epoch 24, CIFAR-10 Batch 5:  Loss:     0.0593 Validation Accuracy: 0.629400\n",
      "Epoch 25, CIFAR-10 Batch 1:  Loss:     0.0793 Validation Accuracy: 0.639000\n",
      "Epoch 25, CIFAR-10 Batch 2:  Loss:     0.1101 Validation Accuracy: 0.630000\n",
      "Epoch 25, CIFAR-10 Batch 3:  Loss:     0.0522 Validation Accuracy: 0.642400\n",
      "Epoch 25, CIFAR-10 Batch 4:  Loss:     0.0599 Validation Accuracy: 0.626200\n",
      "Epoch 25, CIFAR-10 Batch 5:  Loss:     0.0502 Validation Accuracy: 0.630000\n",
      "Epoch 26, CIFAR-10 Batch 1:  Loss:     0.0820 Validation Accuracy: 0.639200\n",
      "Epoch 26, CIFAR-10 Batch 2:  Loss:     0.0964 Validation Accuracy: 0.622600\n",
      "Epoch 26, CIFAR-10 Batch 3:  Loss:     0.0392 Validation Accuracy: 0.640000\n",
      "Epoch 26, CIFAR-10 Batch 4:  Loss:     0.0724 Validation Accuracy: 0.630000\n",
      "Epoch 26, CIFAR-10 Batch 5:  Loss:     0.0367 Validation Accuracy: 0.636000\n",
      "Epoch 27, CIFAR-10 Batch 1:  Loss:     0.0711 Validation Accuracy: 0.641800\n",
      "Epoch 27, CIFAR-10 Batch 2:  Loss:     0.0694 Validation Accuracy: 0.629400\n",
      "Epoch 27, CIFAR-10 Batch 3:  Loss:     0.0483 Validation Accuracy: 0.637200\n",
      "Epoch 27, CIFAR-10 Batch 4:  Loss:     0.0546 Validation Accuracy: 0.634200\n",
      "Epoch 27, CIFAR-10 Batch 5:  Loss:     0.0328 Validation Accuracy: 0.635800\n",
      "Epoch 28, CIFAR-10 Batch 1:  Loss:     0.0615 Validation Accuracy: 0.630200\n",
      "Epoch 28, CIFAR-10 Batch 2:  Loss:     0.0559 Validation Accuracy: 0.636000\n",
      "Epoch 28, CIFAR-10 Batch 3:  Loss:     0.0252 Validation Accuracy: 0.628800\n",
      "Epoch 28, CIFAR-10 Batch 4:  Loss:     0.0417 Validation Accuracy: 0.632600\n",
      "Epoch 28, CIFAR-10 Batch 5:  Loss:     0.0274 Validation Accuracy: 0.626200\n",
      "Epoch 29, CIFAR-10 Batch 1:  Loss:     0.0682 Validation Accuracy: 0.628000\n",
      "Epoch 29, CIFAR-10 Batch 2:  Loss:     0.0526 Validation Accuracy: 0.628800\n",
      "Epoch 29, CIFAR-10 Batch 3:  Loss:     0.0300 Validation Accuracy: 0.630400\n",
      "Epoch 29, CIFAR-10 Batch 4:  Loss:     0.0383 Validation Accuracy: 0.627600\n",
      "Epoch 29, CIFAR-10 Batch 5:  Loss:     0.0444 Validation Accuracy: 0.627800\n",
      "Epoch 30, CIFAR-10 Batch 1:  Loss:     0.0465 Validation Accuracy: 0.623600\n",
      "Epoch 30, CIFAR-10 Batch 2:  Loss:     0.0554 Validation Accuracy: 0.641000\n",
      "Epoch 30, CIFAR-10 Batch 3:  Loss:     0.0278 Validation Accuracy: 0.625000\n",
      "Epoch 30, CIFAR-10 Batch 4:  Loss:     0.0378 Validation Accuracy: 0.631600\n",
      "Epoch 30, CIFAR-10 Batch 5:  Loss:     0.0390 Validation Accuracy: 0.627000\n",
      "Epoch 31, CIFAR-10 Batch 1:  Loss:     0.0407 Validation Accuracy: 0.628000\n",
      "Epoch 31, CIFAR-10 Batch 2:  Loss:     0.0391 Validation Accuracy: 0.643400\n",
      "Epoch 31, CIFAR-10 Batch 3:  Loss:     0.0131 Validation Accuracy: 0.636200\n",
      "Epoch 31, CIFAR-10 Batch 4:  Loss:     0.0246 Validation Accuracy: 0.629000\n",
      "Epoch 31, CIFAR-10 Batch 5:  Loss:     0.0339 Validation Accuracy: 0.626800\n",
      "Epoch 32, CIFAR-10 Batch 1:  Loss:     0.0368 Validation Accuracy: 0.633000\n",
      "Epoch 32, CIFAR-10 Batch 2:  Loss:     0.0313 Validation Accuracy: 0.636600\n",
      "Epoch 32, CIFAR-10 Batch 3:  Loss:     0.0129 Validation Accuracy: 0.630200\n",
      "Epoch 32, CIFAR-10 Batch 4:  Loss:     0.0269 Validation Accuracy: 0.629800\n",
      "Epoch 32, CIFAR-10 Batch 5:  Loss:     0.0308 Validation Accuracy: 0.621600\n",
      "Epoch 33, CIFAR-10 Batch 1:  Loss:     0.0458 Validation Accuracy: 0.637800\n",
      "Epoch 33, CIFAR-10 Batch 2:  Loss:     0.0231 Validation Accuracy: 0.642800\n",
      "Epoch 33, CIFAR-10 Batch 3:  Loss:     0.0146 Validation Accuracy: 0.634200\n",
      "Epoch 33, CIFAR-10 Batch 4:  Loss:     0.0267 Validation Accuracy: 0.628000\n",
      "Epoch 33, CIFAR-10 Batch 5:  Loss:     0.0344 Validation Accuracy: 0.628400\n",
      "Epoch 34, CIFAR-10 Batch 1:  Loss:     0.0375 Validation Accuracy: 0.628400\n",
      "Epoch 34, CIFAR-10 Batch 2:  Loss:     0.0221 Validation Accuracy: 0.636200\n",
      "Epoch 34, CIFAR-10 Batch 3:  Loss:     0.0125 Validation Accuracy: 0.634800\n",
      "Epoch 34, CIFAR-10 Batch 4:  Loss:     0.0172 Validation Accuracy: 0.639800\n",
      "Epoch 34, CIFAR-10 Batch 5:  Loss:     0.0241 Validation Accuracy: 0.627400\n",
      "Epoch 35, CIFAR-10 Batch 1:  Loss:     0.0507 Validation Accuracy: 0.628000\n",
      "Epoch 35, CIFAR-10 Batch 2:  Loss:     0.0216 Validation Accuracy: 0.639400\n",
      "Epoch 35, CIFAR-10 Batch 3:  Loss:     0.0134 Validation Accuracy: 0.630400\n",
      "Epoch 35, CIFAR-10 Batch 4:  Loss:     0.0144 Validation Accuracy: 0.640600\n",
      "Epoch 35, CIFAR-10 Batch 5:  Loss:     0.0294 Validation Accuracy: 0.629800\n",
      "Epoch 36, CIFAR-10 Batch 1:  Loss:     0.0377 Validation Accuracy: 0.632000\n",
      "Epoch 36, CIFAR-10 Batch 2:  Loss:     0.0377 Validation Accuracy: 0.636200\n",
      "Epoch 36, CIFAR-10 Batch 3:  Loss:     0.0083 Validation Accuracy: 0.640800\n",
      "Epoch 36, CIFAR-10 Batch 4:  Loss:     0.0115 Validation Accuracy: 0.638800\n",
      "Epoch 36, CIFAR-10 Batch 5:  Loss:     0.0149 Validation Accuracy: 0.626000\n",
      "Epoch 37, CIFAR-10 Batch 1:  Loss:     0.0189 Validation Accuracy: 0.637000\n",
      "Epoch 37, CIFAR-10 Batch 2:  Loss:     0.0154 Validation Accuracy: 0.642600\n",
      "Epoch 37, CIFAR-10 Batch 3:  Loss:     0.0064 Validation Accuracy: 0.645200\n",
      "Epoch 37, CIFAR-10 Batch 4:  Loss:     0.0172 Validation Accuracy: 0.645000\n",
      "Epoch 37, CIFAR-10 Batch 5:  Loss:     0.0117 Validation Accuracy: 0.640800\n",
      "Epoch 38, CIFAR-10 Batch 1:  Loss:     0.0170 Validation Accuracy: 0.639000\n",
      "Epoch 38, CIFAR-10 Batch 2:  Loss:     0.0335 Validation Accuracy: 0.646800\n",
      "Epoch 38, CIFAR-10 Batch 3:  Loss:     0.0141 Validation Accuracy: 0.637200\n",
      "Epoch 38, CIFAR-10 Batch 4:  Loss:     0.0130 Validation Accuracy: 0.641600\n",
      "Epoch 38, CIFAR-10 Batch 5:  Loss:     0.0137 Validation Accuracy: 0.623000\n",
      "Epoch 39, CIFAR-10 Batch 1:  Loss:     0.0163 Validation Accuracy: 0.641800\n",
      "Epoch 39, CIFAR-10 Batch 2:  Loss:     0.0240 Validation Accuracy: 0.643600\n",
      "Epoch 39, CIFAR-10 Batch 3:  Loss:     0.0109 Validation Accuracy: 0.646200\n",
      "Epoch 39, CIFAR-10 Batch 4:  Loss:     0.0188 Validation Accuracy: 0.647000\n",
      "Epoch 39, CIFAR-10 Batch 5:  Loss:     0.0104 Validation Accuracy: 0.644600\n",
      "Epoch 40, CIFAR-10 Batch 1:  Loss:     0.0176 Validation Accuracy: 0.638200\n",
      "Epoch 40, CIFAR-10 Batch 2:  Loss:     0.0319 Validation Accuracy: 0.649000\n",
      "Epoch 40, CIFAR-10 Batch 3:  Loss:     0.0063 Validation Accuracy: 0.651200\n",
      "Epoch 40, CIFAR-10 Batch 4:  Loss:     0.0112 Validation Accuracy: 0.641400\n",
      "Epoch 40, CIFAR-10 Batch 5:  Loss:     0.0150 Validation Accuracy: 0.637000\n"
     ]
    }
   ],
   "source": [
    "\"\"\"\n",
    "DON'T MODIFY ANYTHING IN THIS CELL\n",
    "\"\"\"\n",
    "save_model_path = './image_classification'\n",
    "\n",
    "print('Training...')\n",
    "with tf.Session() as sess:\n",
    "    # Initializing the variables\n",
    "    sess.run(tf.global_variables_initializer())\n",
    "    \n",
    "    # Training cycle\n",
    "    for epoch in range(epochs):\n",
    "        # Loop over all batches\n",
    "        n_batches = 5\n",
    "        for batch_i in range(1, n_batches + 1):\n",
    "            for batch_features, batch_labels in helper.load_preprocess_training_batch(batch_i, batch_size):\n",
    "                train_neural_network(sess, optimizer, keep_probability, batch_features, batch_labels)\n",
    "            print('Epoch {:>2}, CIFAR-10 Batch {}:  '.format(epoch + 1, batch_i), end='')\n",
    "            print_stats(sess, batch_features, batch_labels, cost, accuracy)\n",
    "            \n",
    "    # Save Model\n",
    "    saver = tf.train.Saver()\n",
    "    save_path = saver.save(sess, save_model_path)"
   ]
  },
  {
   "cell_type": "markdown",
   "metadata": {
    "deletable": true,
    "editable": true
   },
   "source": [
    "# Checkpoint\n",
    "The model has been saved to disk.\n",
    "## Test Model\n",
    "Test your model against the test dataset.  This will be your final accuracy. You should have an accuracy greater than 50%. If you don't, keep tweaking the model architecture and parameters."
   ]
  },
  {
   "cell_type": "code",
   "execution_count": 66,
   "metadata": {
    "collapsed": false,
    "deletable": true,
    "editable": true
   },
   "outputs": [
    {
     "name": "stdout",
     "output_type": "stream",
     "text": [
      "Testing Accuracy: 0.62919921875\n",
      "\n"
     ]
    },
    {
     "data": {
      "image/png": "[encoded data removed]",
      "text/plain": [
       "<matplotlib.figure.Figure at 0x7f15ab9bbf28>"
      ]
     },
     "metadata": {
      "image/png": {
       "height": 319,
       "width": 355
      }
     },
     "output_type": "display_data"
    }
   ],
   "source": [
    "\"\"\"\n",
    "DON'T MODIFY ANYTHING IN THIS CELL\n",
    "\"\"\"\n",
    "%matplotlib inline\n",
    "%config InlineBackend.figure_format = 'retina'\n",
    "\n",
    "import tensorflow as tf\n",
    "import pickle\n",
    "import helper\n",
    "import random\n",
    "\n",
    "# Set batch size if not already set\n",
    "try:\n",
    "    if batch_size:\n",
    "        pass\n",
    "except NameError:\n",
    "    batch_size = 64\n",
    "\n",
    "save_model_path = './image_classification'\n",
    "n_samples = 4\n",
    "top_n_predictions = 3\n",
    "\n",
    "def test_model():\n",
    "    \"\"\"\n",
    "    Test the saved model against the test dataset\n",
    "    \"\"\"\n",
    "\n",
    "    test_features, test_labels = pickle.load(open('preprocess_test.p', mode='rb'))\n",
    "    loaded_graph = tf.Graph()\n",
    "\n",
    "    with tf.Session(graph=loaded_graph) as sess:\n",
    "        # Load model\n",
    "        loader = tf.train.import_meta_graph(save_model_path + '.meta')\n",
    "        loader.restore(sess, save_model_path)\n",
    "\n",
    "        # Get Tensors from loaded model\n",
    "        loaded_x = loaded_graph.get_tensor_by_name('x:0')\n",
    "        loaded_y = loaded_graph.get_tensor_by_name('y:0')\n",
    "        loaded_keep_prob = loaded_graph.get_tensor_by_name('keep_prob:0')\n",
    "        loaded_logits = loaded_graph.get_tensor_by_name('logits:0')\n",
    "        loaded_acc = loaded_graph.get_tensor_by_name('accuracy:0')\n",
    "        \n",
    "        # Get accuracy in batches for memory limitations\n",
    "        test_batch_acc_total = 0\n",
    "        test_batch_count = 0\n",
    "        \n",
    "        for test_feature_batch, test_label_batch in helper.batch_features_labels(test_features, test_labels, batch_size):\n",
    "            test_batch_acc_total += sess.run(\n",
    "                loaded_acc,\n",
    "                feed_dict={loaded_x: test_feature_batch, loaded_y: test_label_batch, loaded_keep_prob: 1.0})\n",
    "            test_batch_count += 1\n",
    "\n",
    "        print('Testing Accuracy: {}\\n'.format(test_batch_acc_total/test_batch_count))\n",
    "\n",
    "        # Print Random Samples\n",
    "        random_test_features, random_test_labels = tuple(zip(*random.sample(list(zip(test_features, test_labels)), n_samples)))\n",
    "        random_test_predictions = sess.run(\n",
    "            tf.nn.top_k(tf.nn.softmax(loaded_logits), top_n_predictions),\n",
    "            feed_dict={loaded_x: random_test_features, loaded_y: random_test_labels, loaded_keep_prob: 1.0})\n",
    "        helper.display_image_predictions(random_test_features, random_test_labels, random_test_predictions)\n",
    "\n",
    "\n",
    "test_model()"
   ]
  },
  {
   "cell_type": "markdown",
   "metadata": {
    "deletable": true,
    "editable": true
   },
   "source": [
    "## Why 50-80% Accuracy?\n",
    "You might be wondering why you can't get an accuracy any higher. First things first, 50% isn't bad for a simple CNN.  Pure guessing would get you 10% accuracy. However, you might notice people are getting scores [well above 80%](http://rodrigob.github.io/are_we_there_yet/build/classification_datasets_results.html#43494641522d3130).  That's because we haven't taught you all there is to know about neural networks. We still need to cover a few more techniques.\n",
    "## Submitting This Project\n",
    "When submitting this project, make sure to run all the cells before saving the notebook.  Save the notebook file as \"dlnd_image_classification.ipynb\" and save it as a HTML file under \"File\" -> \"Download as\".  Include the \"helper.py\" and \"problem_unittests.py\" files in your submission."
   ]
  },
  {
   "cell_type": "code",
   "execution_count": null,
   "metadata": {
    "collapsed": true,
    "deletable": true,
    "editable": true
   },
   "outputs": [],
   "source": []
  }
 ],
 "metadata": {
  "kernelspec": {
   "display_name": "Python 3",
   "language": "python",
   "name": "python3"
  },
  "language_info": {
   "codemirror_mode": {
    "name": "ipython",
    "version": 3
   },
   "file_extension": ".py",
   "mimetype": "text/x-python",
   "name": "python",
   "nbconvert_exporter": "python",
   "pygments_lexer": "ipython3",
   "version": "3.5.2"
  },
  "widgets": {
   "state": {},
   "version": "1.1.2"
  }
 },
 "nbformat": 4,
 "nbformat_minor": 0
}
